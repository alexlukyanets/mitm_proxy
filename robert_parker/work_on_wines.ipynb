{
 "cells": [
  {
   "cell_type": "code",
   "execution_count": 11,
   "metadata": {
    "collapsed": true
   },
   "outputs": [],
   "source": [
    "import pandas as pd\n",
    "from database.mysql_connection_string import mysql_connection_string\n",
    "import sqlalchemy as sa\n",
    "from sqlalchemy.sql import select\n",
    "from database.models.parker_wine import ParkerWine\n",
    "from sqlalchemy.dialects import mysql"
   ]
  },
  {
   "cell_type": "code",
   "execution_count": 12,
   "outputs": [],
   "source": [
    "engine = sa.create_engine(mysql_connection_string()).connect()"
   ],
   "metadata": {
    "collapsed": false
   }
  },
  {
   "cell_type": "code",
   "execution_count": 13,
   "outputs": [],
   "source": [
    "stmt = select(ParkerWine)\n",
    "stmt_compiled = stmt.compile(compile_kwargs={\"literal_binds\": True}, dialect=mysql.dialect())\n",
    "results = engine.execute(str(stmt_compiled))"
   ],
   "metadata": {
    "collapsed": false
   }
  },
  {
   "cell_type": "code",
   "execution_count": 14,
   "outputs": [
    {
     "data": {
      "text/plain": "            id          created_at          updated_at            wine_id  \\\n0            1 2022-12-21 13:18:40 2022-12-21 13:18:40  fLWDr8YahZEYS2Y4n   \n1            2 2022-12-21 13:18:40 2022-12-21 13:18:40  wayLRwMjdXdrKYxPy   \n2            3 2022-12-21 13:18:40 2022-12-21 13:18:40  oSvNwAoYAZesGt9EE   \n3            4 2022-12-21 13:18:40 2022-12-21 13:18:40  gLZCbvbNgcyBCEyng   \n4            5 2022-12-21 13:18:40 2022-12-21 13:18:40  hGL2oP93ZhojQhd8v   \n...        ...                 ...                 ...                ...   \n590055  590056 2023-01-20 10:47:06 2023-01-20 10:47:06  t9J5poBhar2bPsjTP   \n590056  590057 2023-01-20 10:47:06 2023-01-20 10:47:06  KkCcLsw3CG6QCdKpR   \n590057  590058 2023-01-20 10:47:06 2023-01-20 10:47:06  xpQcR6jSfqEF9TXJZ   \n590058  590059 2023-01-20 10:47:06 2023-01-20 10:47:06  xjzwupNNkFdSDtmFS   \n590059  590060 2023-01-20 10:47:06 2023-01-20 10:47:06  LpsWqhNwC3EsRqwwW   \n\n          country maturity                  locale       type  color  \\\n0             USA      old           Sonoma County  sparkling   rose   \n1             USA      old                    None      table    red   \n2             USA     late                    None  sparkling  white   \n3             USA      old  San Luis Obispo County      table    red   \n4             USA      old                    None      table    red   \n...           ...      ...                     ...        ...    ...   \n590055  Argentina     None                    None      table    red   \n590056  Argentina     None                    None      table    red   \n590057  Argentina      old                    None      table    red   \n590058  Argentina     None                    None      table    red   \n590059  Argentina    early               Tupungato      table  white   \n\n                   variety  ...      location_name      region  \\\n0                 grenache  ...        North Coast  California   \n1               pinot-noir  ...  Willamette Valley      Oregon   \n2                     None  ...               None    New York   \n3                     None  ...      Central Coast  California   \n4                     None  ...    Columbia Valley  Washington   \n...                    ...  ...                ...         ...   \n590055  cabernet-sauvignon  ...               None     Mendoza   \n590056              malbec  ...               None     Mendoza   \n590057              malbec  ...               None     Mendoza   \n590058              malbec  ...               None     Mendoza   \n590059            semillon  ...       Valle de Uco     Mendoza   \n\n                                             source_text  \\\n0                                 237, The Wine Advocate   \n1                                 105, The Wine Advocate   \n2                  August 2020 Week 1, The Wine Advocate   \n3                                 208, The Wine Advocate   \n4                                 197, The Wine Advocate   \n...                                                  ...   \n590055                             79, The Wine Advocate   \n590056                             79, The Wine Advocate   \n590057                             82, The Wine Advocate   \n590058                            203, The Wine Advocate   \n590059  Issue 245 End of October 2019, The Wine Advocate   \n\n                        source_link               reviewer        reviewer_id  \\\n0       /articles/D2rwAuKFdEmZSb4n2    Lisa Perrotti-Brown  KuF6j73YixfrCQbK7   \n1       /articles/zJLW4Jwe9awFLax4x  Robert M. Parker, Jr.  B7JmykPiiAEp9T2vY   \n2       /articles/STp3xyuqxJMyBnaBq           Mark Squires  7wLeXzxjCdBzXA5g5   \n3       /articles/XF7LxaTy7uJJNAXor            Jeb Dunnuck  piwWRNQCXxvrywFgc   \n4       /articles/ao8c9pWm6kjjPwhyM           Jay S Miller  8ATKiBkj8Mhk4haKa   \n...                             ...                    ...                ...   \n590055  /articles/ePHDnjrx2GLM3somH  Robert M. Parker, Jr.  B7JmykPiiAEp9T2vY   \n590056  /articles/qpQmj28xXqxEmCRut  Robert M. Parker, Jr.  B7JmykPiiAEp9T2vY   \n590057  /articles/HzafJx2zge6pQhkbA  Robert M. Parker, Jr.  B7JmykPiiAEp9T2vY   \n590058  /articles/ymKAhqW3c8MoJ8fBo            Neal Martin  78N5EP5NapN36n7Mu   \n590059  /articles/gLkZrP78EK9Jfveqf         Luis Gutiérrez  QN8yNJQiHh9rsiTGs   \n\n         drink_date            issue_date        producer_id  \\\n0       2018 - 2020  06/29/2018, 19:00:00  mN52vsAFeLqnbwNaz   \n1       1996 - 1998  06/30/1996, 03:00:00  K3HHMuEgYfG7D3Xog   \n2       2020 - 2023  08/06/2020, 18:50:00  sJJrrpPyHzj4ZvJRn   \n3       2013 - 2015  08/29/2013, 03:00:00  YpBnEbgmbrHpYF4Jn   \n4       2011 - 2018  10/31/2011, 02:00:00  3kztNSJnbZbq7gnw9   \n...             ...                   ...                ...   \n590055           NA  02/21/1992, 02:00:00  3PGTDBY3kfg9WnXpq   \n590056           NA  02/21/1992, 02:00:00  pTXxwXWDmBsuo3qLv   \n590057  1992 - 2007  08/28/1992, 03:00:00  3PGTDBY3kfg9WnXpq   \n590058           NA  10/31/2012, 02:00:00  jXj3WemdF7AMSm6mD   \n590059  2019 - 2059  10/31/2019, 19:25:00  MthZahtsvEbp4LYNT   \n\n                                              description  \n0       The NV Sparkling Grenache Morningsong Vineyard...  \n1       Myron Redford produces one of the most attract...  \n2       The NV Frizzante, with the beer-cap closure an...  \n3       A big crowd-pleasing and quaffable effort that...  \n4       The Non-Vintage Rough Justice is a two vintage...  \n...                                                   ...  \n590055  In January, I finally had a chance to taste th...  \n590056  This rich, stylish, complete, as well as compl...  \n590057  This wine competes with the finest red wines m...  \n590058  Just for fun, I was privy to a rare old bottle...  \n590059  There are 100 half-liter bottles of an incredi...  \n\n[590060 rows x 30 columns]",
      "text/html": "<div>\n<style scoped>\n    .dataframe tbody tr th:only-of-type {\n        vertical-align: middle;\n    }\n\n    .dataframe tbody tr th {\n        vertical-align: top;\n    }\n\n    .dataframe thead th {\n        text-align: right;\n    }\n</style>\n<table border=\"1\" class=\"dataframe\">\n  <thead>\n    <tr style=\"text-align: right;\">\n      <th></th>\n      <th>id</th>\n      <th>created_at</th>\n      <th>updated_at</th>\n      <th>wine_id</th>\n      <th>country</th>\n      <th>maturity</th>\n      <th>locale</th>\n      <th>type</th>\n      <th>color</th>\n      <th>variety</th>\n      <th>...</th>\n      <th>location_name</th>\n      <th>region</th>\n      <th>source_text</th>\n      <th>source_link</th>\n      <th>reviewer</th>\n      <th>reviewer_id</th>\n      <th>drink_date</th>\n      <th>issue_date</th>\n      <th>producer_id</th>\n      <th>description</th>\n    </tr>\n  </thead>\n  <tbody>\n    <tr>\n      <th>0</th>\n      <td>1</td>\n      <td>2022-12-21 13:18:40</td>\n      <td>2022-12-21 13:18:40</td>\n      <td>fLWDr8YahZEYS2Y4n</td>\n      <td>USA</td>\n      <td>old</td>\n      <td>Sonoma County</td>\n      <td>sparkling</td>\n      <td>rose</td>\n      <td>grenache</td>\n      <td>...</td>\n      <td>North Coast</td>\n      <td>California</td>\n      <td>237, The Wine Advocate</td>\n      <td>/articles/D2rwAuKFdEmZSb4n2</td>\n      <td>Lisa Perrotti-Brown</td>\n      <td>KuF6j73YixfrCQbK7</td>\n      <td>2018 - 2020</td>\n      <td>06/29/2018, 19:00:00</td>\n      <td>mN52vsAFeLqnbwNaz</td>\n      <td>The NV Sparkling Grenache Morningsong Vineyard...</td>\n    </tr>\n    <tr>\n      <th>1</th>\n      <td>2</td>\n      <td>2022-12-21 13:18:40</td>\n      <td>2022-12-21 13:18:40</td>\n      <td>wayLRwMjdXdrKYxPy</td>\n      <td>USA</td>\n      <td>old</td>\n      <td>None</td>\n      <td>table</td>\n      <td>red</td>\n      <td>pinot-noir</td>\n      <td>...</td>\n      <td>Willamette Valley</td>\n      <td>Oregon</td>\n      <td>105, The Wine Advocate</td>\n      <td>/articles/zJLW4Jwe9awFLax4x</td>\n      <td>Robert M. Parker, Jr.</td>\n      <td>B7JmykPiiAEp9T2vY</td>\n      <td>1996 - 1998</td>\n      <td>06/30/1996, 03:00:00</td>\n      <td>K3HHMuEgYfG7D3Xog</td>\n      <td>Myron Redford produces one of the most attract...</td>\n    </tr>\n    <tr>\n      <th>2</th>\n      <td>3</td>\n      <td>2022-12-21 13:18:40</td>\n      <td>2022-12-21 13:18:40</td>\n      <td>oSvNwAoYAZesGt9EE</td>\n      <td>USA</td>\n      <td>late</td>\n      <td>None</td>\n      <td>sparkling</td>\n      <td>white</td>\n      <td>None</td>\n      <td>...</td>\n      <td>None</td>\n      <td>New York</td>\n      <td>August 2020 Week 1, The Wine Advocate</td>\n      <td>/articles/STp3xyuqxJMyBnaBq</td>\n      <td>Mark Squires</td>\n      <td>7wLeXzxjCdBzXA5g5</td>\n      <td>2020 - 2023</td>\n      <td>08/06/2020, 18:50:00</td>\n      <td>sJJrrpPyHzj4ZvJRn</td>\n      <td>The NV Frizzante, with the beer-cap closure an...</td>\n    </tr>\n    <tr>\n      <th>3</th>\n      <td>4</td>\n      <td>2022-12-21 13:18:40</td>\n      <td>2022-12-21 13:18:40</td>\n      <td>gLZCbvbNgcyBCEyng</td>\n      <td>USA</td>\n      <td>old</td>\n      <td>San Luis Obispo County</td>\n      <td>table</td>\n      <td>red</td>\n      <td>None</td>\n      <td>...</td>\n      <td>Central Coast</td>\n      <td>California</td>\n      <td>208, The Wine Advocate</td>\n      <td>/articles/XF7LxaTy7uJJNAXor</td>\n      <td>Jeb Dunnuck</td>\n      <td>piwWRNQCXxvrywFgc</td>\n      <td>2013 - 2015</td>\n      <td>08/29/2013, 03:00:00</td>\n      <td>YpBnEbgmbrHpYF4Jn</td>\n      <td>A big crowd-pleasing and quaffable effort that...</td>\n    </tr>\n    <tr>\n      <th>4</th>\n      <td>5</td>\n      <td>2022-12-21 13:18:40</td>\n      <td>2022-12-21 13:18:40</td>\n      <td>hGL2oP93ZhojQhd8v</td>\n      <td>USA</td>\n      <td>old</td>\n      <td>None</td>\n      <td>table</td>\n      <td>red</td>\n      <td>None</td>\n      <td>...</td>\n      <td>Columbia Valley</td>\n      <td>Washington</td>\n      <td>197, The Wine Advocate</td>\n      <td>/articles/ao8c9pWm6kjjPwhyM</td>\n      <td>Jay S Miller</td>\n      <td>8ATKiBkj8Mhk4haKa</td>\n      <td>2011 - 2018</td>\n      <td>10/31/2011, 02:00:00</td>\n      <td>3kztNSJnbZbq7gnw9</td>\n      <td>The Non-Vintage Rough Justice is a two vintage...</td>\n    </tr>\n    <tr>\n      <th>...</th>\n      <td>...</td>\n      <td>...</td>\n      <td>...</td>\n      <td>...</td>\n      <td>...</td>\n      <td>...</td>\n      <td>...</td>\n      <td>...</td>\n      <td>...</td>\n      <td>...</td>\n      <td>...</td>\n      <td>...</td>\n      <td>...</td>\n      <td>...</td>\n      <td>...</td>\n      <td>...</td>\n      <td>...</td>\n      <td>...</td>\n      <td>...</td>\n      <td>...</td>\n      <td>...</td>\n    </tr>\n    <tr>\n      <th>590055</th>\n      <td>590056</td>\n      <td>2023-01-20 10:47:06</td>\n      <td>2023-01-20 10:47:06</td>\n      <td>t9J5poBhar2bPsjTP</td>\n      <td>Argentina</td>\n      <td>None</td>\n      <td>None</td>\n      <td>table</td>\n      <td>red</td>\n      <td>cabernet-sauvignon</td>\n      <td>...</td>\n      <td>None</td>\n      <td>Mendoza</td>\n      <td>79, The Wine Advocate</td>\n      <td>/articles/ePHDnjrx2GLM3somH</td>\n      <td>Robert M. Parker, Jr.</td>\n      <td>B7JmykPiiAEp9T2vY</td>\n      <td>NA</td>\n      <td>02/21/1992, 02:00:00</td>\n      <td>3PGTDBY3kfg9WnXpq</td>\n      <td>In January, I finally had a chance to taste th...</td>\n    </tr>\n    <tr>\n      <th>590056</th>\n      <td>590057</td>\n      <td>2023-01-20 10:47:06</td>\n      <td>2023-01-20 10:47:06</td>\n      <td>KkCcLsw3CG6QCdKpR</td>\n      <td>Argentina</td>\n      <td>None</td>\n      <td>None</td>\n      <td>table</td>\n      <td>red</td>\n      <td>malbec</td>\n      <td>...</td>\n      <td>None</td>\n      <td>Mendoza</td>\n      <td>79, The Wine Advocate</td>\n      <td>/articles/qpQmj28xXqxEmCRut</td>\n      <td>Robert M. Parker, Jr.</td>\n      <td>B7JmykPiiAEp9T2vY</td>\n      <td>NA</td>\n      <td>02/21/1992, 02:00:00</td>\n      <td>pTXxwXWDmBsuo3qLv</td>\n      <td>This rich, stylish, complete, as well as compl...</td>\n    </tr>\n    <tr>\n      <th>590057</th>\n      <td>590058</td>\n      <td>2023-01-20 10:47:06</td>\n      <td>2023-01-20 10:47:06</td>\n      <td>xpQcR6jSfqEF9TXJZ</td>\n      <td>Argentina</td>\n      <td>old</td>\n      <td>None</td>\n      <td>table</td>\n      <td>red</td>\n      <td>malbec</td>\n      <td>...</td>\n      <td>None</td>\n      <td>Mendoza</td>\n      <td>82, The Wine Advocate</td>\n      <td>/articles/HzafJx2zge6pQhkbA</td>\n      <td>Robert M. Parker, Jr.</td>\n      <td>B7JmykPiiAEp9T2vY</td>\n      <td>1992 - 2007</td>\n      <td>08/28/1992, 03:00:00</td>\n      <td>3PGTDBY3kfg9WnXpq</td>\n      <td>This wine competes with the finest red wines m...</td>\n    </tr>\n    <tr>\n      <th>590058</th>\n      <td>590059</td>\n      <td>2023-01-20 10:47:06</td>\n      <td>2023-01-20 10:47:06</td>\n      <td>xjzwupNNkFdSDtmFS</td>\n      <td>Argentina</td>\n      <td>None</td>\n      <td>None</td>\n      <td>table</td>\n      <td>red</td>\n      <td>malbec</td>\n      <td>...</td>\n      <td>None</td>\n      <td>Mendoza</td>\n      <td>203, The Wine Advocate</td>\n      <td>/articles/ymKAhqW3c8MoJ8fBo</td>\n      <td>Neal Martin</td>\n      <td>78N5EP5NapN36n7Mu</td>\n      <td>NA</td>\n      <td>10/31/2012, 02:00:00</td>\n      <td>jXj3WemdF7AMSm6mD</td>\n      <td>Just for fun, I was privy to a rare old bottle...</td>\n    </tr>\n    <tr>\n      <th>590059</th>\n      <td>590060</td>\n      <td>2023-01-20 10:47:06</td>\n      <td>2023-01-20 10:47:06</td>\n      <td>LpsWqhNwC3EsRqwwW</td>\n      <td>Argentina</td>\n      <td>early</td>\n      <td>Tupungato</td>\n      <td>table</td>\n      <td>white</td>\n      <td>semillon</td>\n      <td>...</td>\n      <td>Valle de Uco</td>\n      <td>Mendoza</td>\n      <td>Issue 245 End of October 2019, The Wine Advocate</td>\n      <td>/articles/gLkZrP78EK9Jfveqf</td>\n      <td>Luis Gutiérrez</td>\n      <td>QN8yNJQiHh9rsiTGs</td>\n      <td>2019 - 2059</td>\n      <td>10/31/2019, 19:25:00</td>\n      <td>MthZahtsvEbp4LYNT</td>\n      <td>There are 100 half-liter bottles of an incredi...</td>\n    </tr>\n  </tbody>\n</table>\n<p>590060 rows × 30 columns</p>\n</div>"
     },
     "execution_count": 14,
     "metadata": {},
     "output_type": "execute_result"
    }
   ],
   "source": [
    "wines = pd.DataFrame(results.fetchall())\n",
    "wines"
   ],
   "metadata": {
    "collapsed": false
   }
  },
  {
   "cell_type": "code",
   "execution_count": 15,
   "outputs": [],
   "source": [
    "wines = wines.drop(['id', 'created_at', 'updated_at'], axis=1)"
   ],
   "metadata": {
    "collapsed": false
   }
  },
  {
   "cell_type": "code",
   "execution_count": 16,
   "outputs": [],
   "source": [
    "wines = wines.drop_duplicates()"
   ],
   "metadata": {
    "collapsed": false
   }
  },
  {
   "cell_type": "code",
   "execution_count": 17,
   "outputs": [
    {
     "data": {
      "text/plain": "\"['United Kingdom', 'Romania', 'Hungary', 'Denmark', 'Albania', 'Portugal', 'Cyprus', 'Argentina', 'Armenia', 'Australia', 'Chile', 'Turkey', 'Slovenia', 'New Zealand', 'Austria', 'Liechtenstein', 'Croatia', 'Bosnia and Herzegovina', 'Switzerland', 'Morocco', 'Georgia', 'Lebanon', 'France', 'Algeria', 'Canada', 'Bulgaria', 'South Africa', 'USA', 'Greece', 'Ukraine', 'Peru', 'Italy', 'Japan', 'Luxembourg', 'Spain', 'Uruguay', 'China', 'Serbia', 'Israel', 'Germany']\""
     },
     "execution_count": 17,
     "metadata": {},
     "output_type": "execute_result"
    }
   ],
   "source": [
    "str(list(set(wines.country.to_list())))"
   ],
   "metadata": {
    "collapsed": false
   }
  },
  {
   "cell_type": "code",
   "execution_count": 24,
   "outputs": [
    {
     "data": {
      "text/plain": "               vintage_id    country maturity                  locale  \\\n0       fLWDr8YahZEYS2Y4n        USA      old           Sonoma County   \n1       wayLRwMjdXdrKYxPy        USA      old                    None   \n2       oSvNwAoYAZesGt9EE        USA     late                    None   \n3       gLZCbvbNgcyBCEyng        USA      old  San Luis Obispo County   \n4       hGL2oP93ZhojQhd8v        USA      old                    None   \n...                   ...        ...      ...                     ...   \n590055  t9J5poBhar2bPsjTP  Argentina     None                    None   \n590056  KkCcLsw3CG6QCdKpR  Argentina     None                    None   \n590057  xpQcR6jSfqEF9TXJZ  Argentina      old                    None   \n590058  xjzwupNNkFdSDtmFS  Argentina     None                    None   \n590059  LpsWqhNwC3EsRqwwW  Argentina    early               Tupungato   \n\n             type  color             variety sweetness rating  \\\n0       sparkling   rose            grenache       dry     86   \n1           table    red          pinot-noir       dry     85   \n2       sparkling  white                None       dry     87   \n3           table    red                None       dry     86   \n4           table    red                None       dry     88   \n...           ...    ...                 ...       ...    ...   \n590055      table    red  cabernet-sauvignon       dry     90   \n590056      table    red              malbec       dry     85   \n590057      table    red              malbec       dry     94   \n590058      table    red              malbec       dry     92   \n590059      table  white            semillon       dry     98   \n\n                    site  ...  \\\n0       Dry Creek Valley  ...   \n1                   None  ...   \n2                   None  ...   \n3                   None  ...   \n4                   None  ...   \n...                  ...  ...   \n590055              None  ...   \n590056              None  ...   \n590057              None  ...   \n590058              None  ...   \n590059              None  ...   \n\n                                             source_text  \\\n0                                 237, The Wine Advocate   \n1                                 105, The Wine Advocate   \n2                  August 2020 Week 1, The Wine Advocate   \n3                                 208, The Wine Advocate   \n4                                 197, The Wine Advocate   \n...                                                  ...   \n590055                             79, The Wine Advocate   \n590056                             79, The Wine Advocate   \n590057                             82, The Wine Advocate   \n590058                            203, The Wine Advocate   \n590059  Issue 245 End of October 2019, The Wine Advocate   \n\n                                              source_link  \\\n0       https://www.robertparker.comhttps://www.robert...   \n1       https://www.robertparker.comhttps://www.robert...   \n2       https://www.robertparker.comhttps://www.robert...   \n3       https://www.robertparker.comhttps://www.robert...   \n4       https://www.robertparker.comhttps://www.robert...   \n...                                                   ...   \n590055  https://www.robertparker.comhttps://www.robert...   \n590056  https://www.robertparker.comhttps://www.robert...   \n590057  https://www.robertparker.comhttps://www.robert...   \n590058  https://www.robertparker.comhttps://www.robert...   \n590059  https://www.robertparker.comhttps://www.robert...   \n\n                     reviewer        reviewer_id   drink_date  \\\n0         Lisa Perrotti-Brown  KuF6j73YixfrCQbK7  2018 - 2020   \n1       Robert M. Parker, Jr.  B7JmykPiiAEp9T2vY  1996 - 1998   \n2                Mark Squires  7wLeXzxjCdBzXA5g5  2020 - 2023   \n3                 Jeb Dunnuck  piwWRNQCXxvrywFgc  2013 - 2015   \n4                Jay S Miller  8ATKiBkj8Mhk4haKa  2011 - 2018   \n...                       ...                ...          ...   \n590055  Robert M. Parker, Jr.  B7JmykPiiAEp9T2vY           NA   \n590056  Robert M. Parker, Jr.  B7JmykPiiAEp9T2vY           NA   \n590057  Robert M. Parker, Jr.  B7JmykPiiAEp9T2vY  1992 - 2007   \n590058            Neal Martin  78N5EP5NapN36n7Mu           NA   \n590059         Luis Gutiérrez  QN8yNJQiHh9rsiTGs  2019 - 2059   \n\n                  issue_date        producer_id  \\\n0       06/29/2018, 19:00:00  mN52vsAFeLqnbwNaz   \n1       06/30/1996, 03:00:00  K3HHMuEgYfG7D3Xog   \n2       08/06/2020, 18:50:00  sJJrrpPyHzj4ZvJRn   \n3       08/29/2013, 03:00:00  YpBnEbgmbrHpYF4Jn   \n4       10/31/2011, 02:00:00  3kztNSJnbZbq7gnw9   \n...                      ...                ...   \n590055  02/21/1992, 02:00:00  3PGTDBY3kfg9WnXpq   \n590056  02/21/1992, 02:00:00  pTXxwXWDmBsuo3qLv   \n590057  08/28/1992, 03:00:00  3PGTDBY3kfg9WnXpq   \n590058  10/31/2012, 02:00:00  jXj3WemdF7AMSm6mD   \n590059  10/31/2019, 19:25:00  MthZahtsvEbp4LYNT   \n\n                                              description  \\\n0       The NV Sparkling Grenache Morningsong Vineyard...   \n1       Myron Redford produces one of the most attract...   \n2       The NV Frizzante, with the beer-cap closure an...   \n3       A big crowd-pleasing and quaffable effort that...   \n4       The Non-Vintage Rough Justice is a two vintage...   \n...                                                   ...   \n590055  In January, I finally had a chance to taste th...   \n590056  This rich, stylish, complete, as well as compl...   \n590057  This wine competes with the finest red wines m...   \n590058  Just for fun, I was privy to a rare old bottle...   \n590059  There are 100 half-liter bottles of an incredi...   \n\n                                             reviewer_url  \\\n0       https://www.robertparker.com/about/reviewers/K...   \n1       https://www.robertparker.com/about/reviewers/B...   \n2       https://www.robertparker.com/about/reviewers/7...   \n3       https://www.robertparker.com/about/reviewers/p...   \n4       https://www.robertparker.com/about/reviewers/8...   \n...                                                   ...   \n590055  https://www.robertparker.com/about/reviewers/B...   \n590056  https://www.robertparker.com/about/reviewers/B...   \n590057  https://www.robertparker.com/about/reviewers/B...   \n590058  https://www.robertparker.com/about/reviewers/7...   \n590059  https://www.robertparker.com/about/reviewers/Q...   \n\n                                              vintage_url  \n0       https://www.robertparker.com/wines/fLWDr8YahZE...  \n1       https://www.robertparker.com/wines/wayLRwMjdXd...  \n2       https://www.robertparker.com/wines/oSvNwAoYAZe...  \n3       https://www.robertparker.com/wines/gLZCbvbNgcy...  \n4       https://www.robertparker.com/wines/hGL2oP93Zho...  \n...                                                   ...  \n590055  https://www.robertparker.com/wines/t9J5poBhar2...  \n590056  https://www.robertparker.com/wines/KkCcLsw3CG6...  \n590057  https://www.robertparker.com/wines/xpQcR6jSfqE...  \n590058  https://www.robertparker.com/wines/xjzwupNNkFd...  \n590059  https://www.robertparker.com/wines/LpsWqhNwC3E...  \n\n[384644 rows x 29 columns]",
      "text/html": "<div>\n<style scoped>\n    .dataframe tbody tr th:only-of-type {\n        vertical-align: middle;\n    }\n\n    .dataframe tbody tr th {\n        vertical-align: top;\n    }\n\n    .dataframe thead th {\n        text-align: right;\n    }\n</style>\n<table border=\"1\" class=\"dataframe\">\n  <thead>\n    <tr style=\"text-align: right;\">\n      <th></th>\n      <th>vintage_id</th>\n      <th>country</th>\n      <th>maturity</th>\n      <th>locale</th>\n      <th>type</th>\n      <th>color</th>\n      <th>variety</th>\n      <th>sweetness</th>\n      <th>rating</th>\n      <th>site</th>\n      <th>...</th>\n      <th>source_text</th>\n      <th>source_link</th>\n      <th>reviewer</th>\n      <th>reviewer_id</th>\n      <th>drink_date</th>\n      <th>issue_date</th>\n      <th>producer_id</th>\n      <th>description</th>\n      <th>reviewer_url</th>\n      <th>vintage_url</th>\n    </tr>\n  </thead>\n  <tbody>\n    <tr>\n      <th>0</th>\n      <td>fLWDr8YahZEYS2Y4n</td>\n      <td>USA</td>\n      <td>old</td>\n      <td>Sonoma County</td>\n      <td>sparkling</td>\n      <td>rose</td>\n      <td>grenache</td>\n      <td>dry</td>\n      <td>86</td>\n      <td>Dry Creek Valley</td>\n      <td>...</td>\n      <td>237, The Wine Advocate</td>\n      <td>https://www.robertparker.comhttps://www.robert...</td>\n      <td>Lisa Perrotti-Brown</td>\n      <td>KuF6j73YixfrCQbK7</td>\n      <td>2018 - 2020</td>\n      <td>06/29/2018, 19:00:00</td>\n      <td>mN52vsAFeLqnbwNaz</td>\n      <td>The NV Sparkling Grenache Morningsong Vineyard...</td>\n      <td>https://www.robertparker.com/about/reviewers/K...</td>\n      <td>https://www.robertparker.com/wines/fLWDr8YahZE...</td>\n    </tr>\n    <tr>\n      <th>1</th>\n      <td>wayLRwMjdXdrKYxPy</td>\n      <td>USA</td>\n      <td>old</td>\n      <td>None</td>\n      <td>table</td>\n      <td>red</td>\n      <td>pinot-noir</td>\n      <td>dry</td>\n      <td>85</td>\n      <td>None</td>\n      <td>...</td>\n      <td>105, The Wine Advocate</td>\n      <td>https://www.robertparker.comhttps://www.robert...</td>\n      <td>Robert M. Parker, Jr.</td>\n      <td>B7JmykPiiAEp9T2vY</td>\n      <td>1996 - 1998</td>\n      <td>06/30/1996, 03:00:00</td>\n      <td>K3HHMuEgYfG7D3Xog</td>\n      <td>Myron Redford produces one of the most attract...</td>\n      <td>https://www.robertparker.com/about/reviewers/B...</td>\n      <td>https://www.robertparker.com/wines/wayLRwMjdXd...</td>\n    </tr>\n    <tr>\n      <th>2</th>\n      <td>oSvNwAoYAZesGt9EE</td>\n      <td>USA</td>\n      <td>late</td>\n      <td>None</td>\n      <td>sparkling</td>\n      <td>white</td>\n      <td>None</td>\n      <td>dry</td>\n      <td>87</td>\n      <td>None</td>\n      <td>...</td>\n      <td>August 2020 Week 1, The Wine Advocate</td>\n      <td>https://www.robertparker.comhttps://www.robert...</td>\n      <td>Mark Squires</td>\n      <td>7wLeXzxjCdBzXA5g5</td>\n      <td>2020 - 2023</td>\n      <td>08/06/2020, 18:50:00</td>\n      <td>sJJrrpPyHzj4ZvJRn</td>\n      <td>The NV Frizzante, with the beer-cap closure an...</td>\n      <td>https://www.robertparker.com/about/reviewers/7...</td>\n      <td>https://www.robertparker.com/wines/oSvNwAoYAZe...</td>\n    </tr>\n    <tr>\n      <th>3</th>\n      <td>gLZCbvbNgcyBCEyng</td>\n      <td>USA</td>\n      <td>old</td>\n      <td>San Luis Obispo County</td>\n      <td>table</td>\n      <td>red</td>\n      <td>None</td>\n      <td>dry</td>\n      <td>86</td>\n      <td>None</td>\n      <td>...</td>\n      <td>208, The Wine Advocate</td>\n      <td>https://www.robertparker.comhttps://www.robert...</td>\n      <td>Jeb Dunnuck</td>\n      <td>piwWRNQCXxvrywFgc</td>\n      <td>2013 - 2015</td>\n      <td>08/29/2013, 03:00:00</td>\n      <td>YpBnEbgmbrHpYF4Jn</td>\n      <td>A big crowd-pleasing and quaffable effort that...</td>\n      <td>https://www.robertparker.com/about/reviewers/p...</td>\n      <td>https://www.robertparker.com/wines/gLZCbvbNgcy...</td>\n    </tr>\n    <tr>\n      <th>4</th>\n      <td>hGL2oP93ZhojQhd8v</td>\n      <td>USA</td>\n      <td>old</td>\n      <td>None</td>\n      <td>table</td>\n      <td>red</td>\n      <td>None</td>\n      <td>dry</td>\n      <td>88</td>\n      <td>None</td>\n      <td>...</td>\n      <td>197, The Wine Advocate</td>\n      <td>https://www.robertparker.comhttps://www.robert...</td>\n      <td>Jay S Miller</td>\n      <td>8ATKiBkj8Mhk4haKa</td>\n      <td>2011 - 2018</td>\n      <td>10/31/2011, 02:00:00</td>\n      <td>3kztNSJnbZbq7gnw9</td>\n      <td>The Non-Vintage Rough Justice is a two vintage...</td>\n      <td>https://www.robertparker.com/about/reviewers/8...</td>\n      <td>https://www.robertparker.com/wines/hGL2oP93Zho...</td>\n    </tr>\n    <tr>\n      <th>...</th>\n      <td>...</td>\n      <td>...</td>\n      <td>...</td>\n      <td>...</td>\n      <td>...</td>\n      <td>...</td>\n      <td>...</td>\n      <td>...</td>\n      <td>...</td>\n      <td>...</td>\n      <td>...</td>\n      <td>...</td>\n      <td>...</td>\n      <td>...</td>\n      <td>...</td>\n      <td>...</td>\n      <td>...</td>\n      <td>...</td>\n      <td>...</td>\n      <td>...</td>\n      <td>...</td>\n    </tr>\n    <tr>\n      <th>590055</th>\n      <td>t9J5poBhar2bPsjTP</td>\n      <td>Argentina</td>\n      <td>None</td>\n      <td>None</td>\n      <td>table</td>\n      <td>red</td>\n      <td>cabernet-sauvignon</td>\n      <td>dry</td>\n      <td>90</td>\n      <td>None</td>\n      <td>...</td>\n      <td>79, The Wine Advocate</td>\n      <td>https://www.robertparker.comhttps://www.robert...</td>\n      <td>Robert M. Parker, Jr.</td>\n      <td>B7JmykPiiAEp9T2vY</td>\n      <td>NA</td>\n      <td>02/21/1992, 02:00:00</td>\n      <td>3PGTDBY3kfg9WnXpq</td>\n      <td>In January, I finally had a chance to taste th...</td>\n      <td>https://www.robertparker.com/about/reviewers/B...</td>\n      <td>https://www.robertparker.com/wines/t9J5poBhar2...</td>\n    </tr>\n    <tr>\n      <th>590056</th>\n      <td>KkCcLsw3CG6QCdKpR</td>\n      <td>Argentina</td>\n      <td>None</td>\n      <td>None</td>\n      <td>table</td>\n      <td>red</td>\n      <td>malbec</td>\n      <td>dry</td>\n      <td>85</td>\n      <td>None</td>\n      <td>...</td>\n      <td>79, The Wine Advocate</td>\n      <td>https://www.robertparker.comhttps://www.robert...</td>\n      <td>Robert M. Parker, Jr.</td>\n      <td>B7JmykPiiAEp9T2vY</td>\n      <td>NA</td>\n      <td>02/21/1992, 02:00:00</td>\n      <td>pTXxwXWDmBsuo3qLv</td>\n      <td>This rich, stylish, complete, as well as compl...</td>\n      <td>https://www.robertparker.com/about/reviewers/B...</td>\n      <td>https://www.robertparker.com/wines/KkCcLsw3CG6...</td>\n    </tr>\n    <tr>\n      <th>590057</th>\n      <td>xpQcR6jSfqEF9TXJZ</td>\n      <td>Argentina</td>\n      <td>old</td>\n      <td>None</td>\n      <td>table</td>\n      <td>red</td>\n      <td>malbec</td>\n      <td>dry</td>\n      <td>94</td>\n      <td>None</td>\n      <td>...</td>\n      <td>82, The Wine Advocate</td>\n      <td>https://www.robertparker.comhttps://www.robert...</td>\n      <td>Robert M. Parker, Jr.</td>\n      <td>B7JmykPiiAEp9T2vY</td>\n      <td>1992 - 2007</td>\n      <td>08/28/1992, 03:00:00</td>\n      <td>3PGTDBY3kfg9WnXpq</td>\n      <td>This wine competes with the finest red wines m...</td>\n      <td>https://www.robertparker.com/about/reviewers/B...</td>\n      <td>https://www.robertparker.com/wines/xpQcR6jSfqE...</td>\n    </tr>\n    <tr>\n      <th>590058</th>\n      <td>xjzwupNNkFdSDtmFS</td>\n      <td>Argentina</td>\n      <td>None</td>\n      <td>None</td>\n      <td>table</td>\n      <td>red</td>\n      <td>malbec</td>\n      <td>dry</td>\n      <td>92</td>\n      <td>None</td>\n      <td>...</td>\n      <td>203, The Wine Advocate</td>\n      <td>https://www.robertparker.comhttps://www.robert...</td>\n      <td>Neal Martin</td>\n      <td>78N5EP5NapN36n7Mu</td>\n      <td>NA</td>\n      <td>10/31/2012, 02:00:00</td>\n      <td>jXj3WemdF7AMSm6mD</td>\n      <td>Just for fun, I was privy to a rare old bottle...</td>\n      <td>https://www.robertparker.com/about/reviewers/7...</td>\n      <td>https://www.robertparker.com/wines/xjzwupNNkFd...</td>\n    </tr>\n    <tr>\n      <th>590059</th>\n      <td>LpsWqhNwC3EsRqwwW</td>\n      <td>Argentina</td>\n      <td>early</td>\n      <td>Tupungato</td>\n      <td>table</td>\n      <td>white</td>\n      <td>semillon</td>\n      <td>dry</td>\n      <td>98</td>\n      <td>None</td>\n      <td>...</td>\n      <td>Issue 245 End of October 2019, The Wine Advocate</td>\n      <td>https://www.robertparker.comhttps://www.robert...</td>\n      <td>Luis Gutiérrez</td>\n      <td>QN8yNJQiHh9rsiTGs</td>\n      <td>2019 - 2059</td>\n      <td>10/31/2019, 19:25:00</td>\n      <td>MthZahtsvEbp4LYNT</td>\n      <td>There are 100 half-liter bottles of an incredi...</td>\n      <td>https://www.robertparker.com/about/reviewers/Q...</td>\n      <td>https://www.robertparker.com/wines/LpsWqhNwC3E...</td>\n    </tr>\n  </tbody>\n</table>\n<p>384644 rows × 29 columns</p>\n</div>"
     },
     "execution_count": 24,
     "metadata": {},
     "output_type": "execute_result"
    }
   ],
   "source": [
    "wines"
   ],
   "metadata": {
    "collapsed": false
   }
  },
  {
   "cell_type": "code",
   "execution_count": 22,
   "outputs": [],
   "source": [
    "wines = wines.rename(columns={\"wine_id\": \"vintage_id\"})\n",
    "wines['source_link'] = wines.apply(lambda row: \"https://www.robertparker.com\"+ row.source_link, axis=1)\n",
    "wines['reviewer_url'] = wines.apply(lambda row: \"https://www.robertparker.com/about/reviewers/\"+ row.reviewer_id, axis=1)\n",
    "wines['vintage_url'] = wines.apply(lambda row: \"https://www.robertparker.com/wines/\"+ row.vintage_id, axis=1)"
   ],
   "metadata": {
    "collapsed": false
   }
  },
  {
   "cell_type": "code",
   "execution_count": 23,
   "outputs": [
    {
     "data": {
      "text/plain": "France                    115777\nUSA                        78737\nItaly                      48180\nSpain                      31824\nGermany                    23829\nAustralia                  20793\nPortugal                   13590\nArgentina                  10990\nAustria                     9732\nChile                       8366\nNew Zealand                 8195\nSouth Africa                6603\nGreece                      2852\nSwitzerland                 1897\nIsrael                      1318\nChina                        433\nJapan                        322\nHungary                      204\nBulgaria                     193\nSlovenia                     156\nRomania                      120\nLebanon                      113\nUnited Kingdom                99\nCanada                        90\nCyprus                        43\nArmenia                       36\nSerbia                        28\nUruguay                       27\nTurkey                        23\nPeru                          18\nLuxembourg                    15\nCroatia                       15\nUkraine                        7\nGeorgia                        4\nDenmark                        4\nLiechtenstein                  4\nBosnia and Herzegovina         2\nAlgeria                        2\nMorocco                        2\nAlbania                        1\nName: country, dtype: int64"
     },
     "execution_count": 23,
     "metadata": {},
     "output_type": "execute_result"
    }
   ],
   "source": [
    "wines.country.value_counts()"
   ],
   "metadata": {
    "collapsed": false
   }
  },
  {
   "cell_type": "code",
   "execution_count": 27,
   "outputs": [],
   "source": [
    "wines.to_csv('vintages_all_countries.csv', sep=';', index=False)"
   ],
   "metadata": {
    "collapsed": false
   }
  },
  {
   "cell_type": "code",
   "execution_count": 28,
   "outputs": [
    {
     "data": {
      "text/plain": "384644"
     },
     "execution_count": 28,
     "metadata": {},
     "output_type": "execute_result"
    }
   ],
   "source": [
    "wines.to_sql(name='vintages_all_countries', con=engine, if_exists = 'append', index=False)"
   ],
   "metadata": {
    "collapsed": false
   }
  },
  {
   "cell_type": "code",
   "execution_count": null,
   "outputs": [],
   "source": [],
   "metadata": {
    "collapsed": false
   }
  }
 ],
 "metadata": {
  "kernelspec": {
   "display_name": "Python 3",
   "language": "python",
   "name": "python3"
  },
  "language_info": {
   "codemirror_mode": {
    "name": "ipython",
    "version": 2
   },
   "file_extension": ".py",
   "mimetype": "text/x-python",
   "name": "python",
   "nbconvert_exporter": "python",
   "pygments_lexer": "ipython2",
   "version": "2.7.6"
  }
 },
 "nbformat": 4,
 "nbformat_minor": 0
}
